{
 "cells": [
  {
   "cell_type": "code",
   "execution_count": 81,
   "metadata": {},
   "outputs": [],
   "source": [
    "from dijkstar import Graph, find_path\n",
    "import pandas as pd"
   ]
  },
  {
   "cell_type": "code",
   "execution_count": 96,
   "metadata": {},
   "outputs": [],
   "source": [
    "#data = pd.read_excel(open('_H7_BYD_C.xlsx', 'rb'),sheet_name='H7_BYD1_ConsumptionYang')#data xlsx\n",
    "data = pd.read_csv('data_csv.csv',sep=',')#data csv"
   ]
  },
  {
   "cell_type": "code",
   "execution_count": 97,
   "metadata": {},
   "outputs": [],
   "source": [
    "pd.to_numeric(data['V'])\n",
    "data['O']  = data['O'].astype(str)\n",
    "data['D']  = data['D'].astype(str)"
   ]
  },
  {
   "cell_type": "code",
   "execution_count": 98,
   "metadata": {},
   "outputs": [
    {
     "name": "stdout",
     "output_type": "stream",
     "text": [
      "<class 'pandas.core.frame.DataFrame'>\n",
      "RangeIndex: 2869 entries, 0 to 2868\n",
      "Data columns (total 3 columns):\n",
      "O    2869 non-null object\n",
      "D    2869 non-null object\n",
      "V    2869 non-null float64\n",
      "dtypes: float64(1), object(2)\n",
      "memory usage: 67.3+ KB\n"
     ]
    }
   ],
   "source": [
    "data.info()"
   ]
  },
  {
   "cell_type": "code",
   "execution_count": 99,
   "metadata": {},
   "outputs": [],
   "source": [
    "routes_graph = Graph()"
   ]
  },
  {
   "cell_type": "code",
   "execution_count": 100,
   "metadata": {},
   "outputs": [],
   "source": [
    "for i in range(len(data)):\n",
    "    routes_graph.add_edge(data['O'][i],data['D'][i],{'cost': data['V'][i]})"
   ]
  },
  {
   "cell_type": "code",
   "execution_count": 112,
   "metadata": {},
   "outputs": [
    {
     "name": "stdout",
     "output_type": "stream",
     "text": [
      "['Z1', 'Z9', 'Z334', 'Z253', 'Z202', 'Z193', 'Z135', 'Z127', 'Z259', 'Z270', 'Z402', 'Z265', 'Z248', 'Z296', 'Z102', 'Z266', 'Z337', 'Z386', 'Z18', 'Z139', 'Z194', 'Z350', 'Z103', 'Z192', 'Z143', 'Z133', 'Z365', 'Z72', 'Z68', 'Z229', 'Z247', 'Z187', 'Z363', 'Z2']\n"
     ]
    }
   ],
   "source": [
    "cost_func = lambda u, v, e, prev_e: e['cost']\n",
    "print(find_path(routes_graph, 'Z1', 'Z2', cost_func=cost_func)[0])"
   ]
  },
  {
   "cell_type": "code",
   "execution_count": null,
   "metadata": {},
   "outputs": [],
   "source": []
  },
  {
   "cell_type": "code",
   "execution_count": null,
   "metadata": {},
   "outputs": [],
   "source": []
  }
 ],
 "metadata": {
  "kernelspec": {
   "display_name": "Python 3",
   "language": "python",
   "name": "python3"
  },
  "language_info": {
   "codemirror_mode": {
    "name": "ipython",
    "version": 3
   },
   "file_extension": ".py",
   "mimetype": "text/x-python",
   "name": "python",
   "nbconvert_exporter": "python",
   "pygments_lexer": "ipython3",
   "version": "3.5.2"
  }
 },
 "nbformat": 4,
 "nbformat_minor": 2
}
