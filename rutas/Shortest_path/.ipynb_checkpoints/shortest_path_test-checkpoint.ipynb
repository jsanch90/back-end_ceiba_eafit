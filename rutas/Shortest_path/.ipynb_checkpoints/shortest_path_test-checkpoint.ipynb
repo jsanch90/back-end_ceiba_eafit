{
 "cells": [
  {
   "cell_type": "code",
   "execution_count": 81,
   "metadata": {},
   "outputs": [],
   "source": [
    "from dijkstar import Graph, find_path\n",
    "import pandas as pd"
   ]
  },
  {
   "cell_type": "code",
   "execution_count": 82,
   "metadata": {},
   "outputs": [],
   "source": [
    "#data = pd.read_excel(open('_H7_BYD_C.xlsx', 'rb'),sheet_name='H7_BYD1_ConsumptionYang')#data xlsx\n",
    "data = pd.read_csv('test_data.csv',sep=',')#data csv"
   ]
  },
  {
   "cell_type": "code",
   "execution_count": 83,
   "metadata": {},
   "outputs": [],
   "source": [
    "pd.to_numeric(data['V'])\n",
    "data['O']  = data['O'].astype(str)\n",
    "data['D']  = data['D'].astype(str)"
   ]
  },
  {
   "cell_type": "code",
   "execution_count": 84,
   "metadata": {},
   "outputs": [
    {
     "name": "stdout",
     "output_type": "stream",
     "text": [
      "<class 'pandas.core.frame.DataFrame'>\n",
      "RangeIndex: 2869 entries, 0 to 2868\n",
      "Data columns (total 3 columns):\n",
      "O    2869 non-null object\n",
      "D    2869 non-null object\n",
      "V    2869 non-null float64\n",
      "dtypes: float64(1), object(2)\n",
      "memory usage: 67.3+ KB\n"
     ]
    }
   ],
   "source": [
    "data.info()"
   ]
  },
  {
   "cell_type": "code",
   "execution_count": 85,
   "metadata": {},
   "outputs": [],
   "source": [
    "routes_graph = Graph()"
   ]
  },
  {
   "cell_type": "code",
   "execution_count": 86,
   "metadata": {},
   "outputs": [],
   "source": [
    "for i in range(len(data)):\n",
    "    routes_graph.add_edge(data['O'][i],data['D'][i],{'cost': data['V'][i]})"
   ]
  },
  {
   "cell_type": "code",
   "execution_count": 88,
   "metadata": {},
   "outputs": [
    {
     "name": "stdout",
     "output_type": "stream",
     "text": [
      "PathInfo(nodes=['Z1', 'Z9', 'Z334', 'Z253', 'Z202', 'Z193', 'Z135', 'Z127', 'Z259', 'Z270', 'Z402', 'Z265', 'Z248', 'Z296', 'Z102', 'Z266', 'Z337', 'Z386', 'Z18', 'Z139', 'Z194', 'Z350', 'Z103', 'Z192', 'Z143', 'Z133', 'Z365', 'Z72', 'Z68', 'Z229', 'Z247', 'Z187', 'Z363', 'Z2'], edges=[{'cost': -0.146}, {'cost': 0.501}, {'cost': -0.10300000000000001}, {'cost': -0.23800000000000002}, {'cost': 0.154}, {'cost': 0.0}, {'cost': -0.444}, {'cost': -0.15}, {'cost': 0.053}, {'cost': 0.039}, {'cost': -0.027999999999999997}, {'cost': -0.462}, {'cost': 0.059000000000000004}, {'cost': -0.48100000000000004}, {'cost': 0.257}, {'cost': -0.044000000000000004}, {'cost': -0.027000000000000003}, {'cost': -0.44}, {'cost': -0.111}, {'cost': -0.285}, {'cost': 0.449}, {'cost': -0.061}, {'cost': 0.0}, {'cost': 0.0}, {'cost': -0.183}, {'cost': 0.239}, {'cost': 0.14400000000000002}, {'cost': -0.282}, {'cost': 0.28300000000000003}, {'cost': -0.7609999999999999}, {'cost': 0.159}, {'cost': 0.13699999999999998}, {'cost': 0.0}], costs=[-0.146, 0.501, -0.10300000000000001, -0.23800000000000002, 0.154, 0.0, -0.444, -0.15, 0.053, 0.039, -0.027999999999999997, -0.462, 0.059000000000000004, -0.48100000000000004, 0.257, -0.044000000000000004, -0.027000000000000003, -0.44, -0.111, -0.285, 0.449, -0.061, 0.0, 0.0, -0.183, 0.239, 0.14400000000000002, -0.282, 0.28300000000000003, -0.7609999999999999, 0.159, 0.13699999999999998, 0.0], total_cost=-1.7719999999999996)\n"
     ]
    }
   ],
   "source": [
    "cost_func = lambda u, v, e, prev_e: e['cost']\n",
    "print(find_path(routes_graph, 'Z1', 'Z2', cost_func=cost_func))"
   ]
  },
  {
   "cell_type": "code",
   "execution_count": null,
   "metadata": {},
   "outputs": [],
   "source": []
  },
  {
   "cell_type": "code",
   "execution_count": null,
   "metadata": {},
   "outputs": [],
   "source": []
  }
 ],
 "metadata": {
  "kernelspec": {
   "display_name": "Python 3",
   "language": "python",
   "name": "python3"
  },
  "language_info": {
   "codemirror_mode": {
    "name": "ipython",
    "version": 3
   },
   "file_extension": ".py",
   "mimetype": "text/x-python",
   "name": "python",
   "nbconvert_exporter": "python",
   "pygments_lexer": "ipython3",
   "version": "3.5.2"
  }
 },
 "nbformat": 4,
 "nbformat_minor": 2
}
